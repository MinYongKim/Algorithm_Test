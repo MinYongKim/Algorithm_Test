{
 "cells": [
  {
   "cell_type": "markdown",
   "metadata": {},
   "source": [
    "# 1978\n",
    "## 소수찾기\n",
    "### 주어진 수들 중 소수의 개수를 출력한다."
   ]
  },
  {
   "cell_type": "code",
   "execution_count": 1,
   "metadata": {},
   "outputs": [
    {
     "name": "stdout",
     "output_type": "stream",
     "text": [
      "3\n"
     ]
    }
   ],
   "source": [
    "# 1과 자지 자신으로 나눌 때만 나누어 지는 자연수\n",
    "\n",
    "n = int(input())\n",
    "\n",
    "nums = map(int, input().split())\n",
    "sosu = 0\n",
    "\n",
    "for num in nums :\n",
    "    error=0\n",
    "    if num>1: # 1은 소수가 아님\n",
    "        for i in range(2,num):\n",
    "            if num%i ==0:\n",
    "                error+=1\n",
    "        if error == 0:\n",
    "            sosu += 1\n",
    "print(sosu)"
   ]
  },
  {
   "cell_type": "code",
   "execution_count": null,
   "metadata": {},
   "outputs": [],
   "source": []
  }
 ],
 "metadata": {
  "interpreter": {
   "hash": "b3ba2566441a7c06988d0923437866b63cedc61552a5af99d1f4fb67d367b25f"
  },
  "kernelspec": {
   "display_name": "Python 3.8.8 64-bit ('base': conda)",
   "language": "python",
   "name": "python3"
  },
  "language_info": {
   "codemirror_mode": {
    "name": "ipython",
    "version": 3
   },
   "file_extension": ".py",
   "mimetype": "text/x-python",
   "name": "python",
   "nbconvert_exporter": "python",
   "pygments_lexer": "ipython3",
   "version": "3.8.8"
  },
  "orig_nbformat": 4
 },
 "nbformat": 4,
 "nbformat_minor": 2
}
