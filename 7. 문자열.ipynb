{
 "cells": [
  {
   "cell_type": "markdown",
   "metadata": {},
   "source": [
    "# 11654 번\n",
    "## 아스키코드 변환\n",
    "### 알파벳 소문자, 대문자, 숫자 0-9중 하나가 주어졌을 때, 주어진 글자의 아스키 코드값을 출력하는 프로그램을 작성하시오."
   ]
  },
  {
   "cell_type": "code",
   "execution_count": 2,
   "metadata": {},
   "outputs": [
    {
     "name": "stdout",
     "output_type": "stream",
     "text": [
      "65\n"
     ]
    }
   ],
   "source": [
    "# 문자열 -> 아스키 코드 변환 함수 ord()\n",
    "# 아스키 -> 문자열 코드 변환 함수 chr() \n",
    "n = input()\n",
    "b=ord(n)\n",
    "print(b)"
   ]
  },
  {
   "cell_type": "markdown",
   "metadata": {},
   "source": [
    "# 11720번\n",
    "## 숫자의 합\n",
    "### N개의 숫자가 공백 없이 쓰여있다. 이 숫자를 모두 합해서 출력하는 프로그램을 작성하시오."
   ]
  },
  {
   "cell_type": "code",
   "execution_count": null,
   "metadata": {},
   "outputs": [],
   "source": [
    "# sum 함수 이용\n",
    "n = input()\n",
    "print(sum(map(int,input())))\n",
    "# for 이용\n",
    "n = input()\n",
    "nums = input()\n",
    "total = 0\n",
    "for i in nums :\n",
    "    total += int(i)\n",
    "print(total)"
   ]
  },
  {
   "cell_type": "markdown",
   "metadata": {},
   "source": [
    "# 10809번\n",
    "## 알파벳 찾기\n",
    "### 알파벳 소문자로만 이루어진 단어 S가 주어진다. 각각의 알파벳에 대해서, 단어에 포함되어 있는 경우에는 처음 등장하는 위치를, 포함되어 있지 않은 경우에는 -1을 출력하는 프로그램을 작성하시오."
   ]
  },
  {
   "cell_type": "code",
   "execution_count": 10,
   "metadata": {},
   "outputs": [
    {
     "data": {
      "text/plain": [
       "'abcdefghijklmnopqrstuvwxyz'"
      ]
     },
     "execution_count": 10,
     "metadata": {},
     "output_type": "execute_result"
    }
   ],
   "source": [
    "import string\n",
    "string.ascii_lowercase"
   ]
  },
  {
   "cell_type": "code",
   "execution_count": 15,
   "metadata": {},
   "outputs": [
    {
     "name": "stdout",
     "output_type": "stream",
     "text": [
      "1 0 2 -1 -1 -1 -1 -1 -1 4 3 -1 -1 7 5 -1 -1 -1 -1 -1 -1 -1 -1 -1 -1 -1 "
     ]
    }
   ],
   "source": [
    "s = input()\n",
    "alphabet = list(string.ascii_lowercase)\n",
    "\n",
    "# find 함수의 사용\n",
    "# find 함수를 이용해서 입력받은 문자열 안에 chr 함수로 변환된 문자가 있는지 찾는다. \n",
    "# 만일 문자열이 있으면 찾는 문자가 첫 번째에 위치한 인덱스 숫자를 출력하고 없으면 -1을 출력하게 된다\n",
    "for x in alphabet:\n",
    "    print(s.find(x), end=\" \")\n",
    "\n",
    "# 아스키 코드 사용\n",
    "s = input()\n",
    "alphabet = list(range(97, 123)) # 아스키코드 알파벳 소문자 범위\n",
    "\n",
    "for x in alphabet:\n",
    "    print(s.find(chr(x)), end=\" \")"
   ]
  },
  {
   "cell_type": "markdown",
   "metadata": {},
   "source": [
    "# 2675 번\n",
    "## 문자열 반복\n",
    "### 문자열 S를 입력받은 후에, 각 문자를 R번 반복해 새 문자열 P를 만든 후 출력하는 프로그램을 작성하시오. 즉, 첫 번째 문자를 R번 반복하고, 두 번째 문자를 R번 반복하는 식으로 P를 만들면 된다. S에는 QR Code \"alphanumeric\" 문자만 들어있다."
   ]
  },
  {
   "cell_type": "code",
   "execution_count": 16,
   "metadata": {},
   "outputs": [
    {
     "name": "stdout",
     "output_type": "stream",
     "text": [
      "/////HHHHHTTTTTPPPPP\n"
     ]
    }
   ],
   "source": [
    "n = int(input()) # 테스트 개수\n",
    "\n",
    "for i in range(n):\n",
    "    cnt, word = input().split()\n",
    "    # word = list(str(word))\n",
    "    for x in word :\n",
    "        print(x*int(cnt), end='')\n",
    "    print('')"
   ]
  },
  {
   "cell_type": "markdown",
   "metadata": {},
   "source": [
    "# 1157 번\n",
    "## 단어 공부\n",
    "### 알파벳 대소문자로 된 단어가 주어지면, 이 단어에서 가장 많이 사용된 알파벳이 무엇인지 알아내는 프로그램을 작성하시오. 단, 대문자와 소문자를 구분하지 않는다."
   ]
  },
  {
   "cell_type": "code",
   "execution_count": null,
   "metadata": {},
   "outputs": [],
   "source": [
    "### 알파벳을 입력 받고\n",
    "### 알파벳 숫자 체크\n",
    "### 출력시 소문자 -> 대문자"
   ]
  },
  {
   "cell_type": "code",
   "execution_count": 6,
   "metadata": {},
   "outputs": [
    {
     "name": "stdout",
     "output_type": "stream",
     "text": [
      "[]\n",
      "[1]\n",
      "[1, 1]\n",
      "[1, 1, 4]\n",
      "[1, 1, 4, 1]\n",
      "A\n"
     ]
    }
   ],
   "source": [
    "words = input().upper()\n",
    "\n",
    "word = list(set(words)) # 입력 받은 문자열 중복제거\n",
    "word_list = []\n",
    "\n",
    "\n",
    "for i in word :\n",
    "    word_cnt = words.count(i)\n",
    "    # print(word_list)\n",
    "    word_list.append(word_cnt) # 알파벳의 사용한 횟수를 리스트 저장\n",
    "\n",
    "if word_list.count(max(word_list)) > 1: # word_list 최대값이 중복이면\n",
    "    print(\"?\")\n",
    "else :\n",
    "    word_max = word_list.index(max(word_list)) #count 숫자 최대값 인덱스\n",
    "    print(word[word_max])"
   ]
  },
  {
   "cell_type": "markdown",
   "metadata": {},
   "source": [
    "# 1152 번\n",
    "## 단어의 개수\n",
    "### 영어 대소문자와 공백으로 이루어진 문자열이 주어진다. 이 문자열에는 몇 개의 단어가 있을까? 이를 구하는 프로그램을 작성하시오. 단, 한 단어가 여러 번 등장하면 등장한 횟수만큼 모두 세어야 한다"
   ]
  },
  {
   "cell_type": "code",
   "execution_count": 41,
   "metadata": {},
   "outputs": [
    {
     "name": "stdout",
     "output_type": "stream",
     "text": [
      "6\n"
     ]
    }
   ],
   "source": [
    "a = input().split()\n",
    "print(len(a))"
   ]
  },
  {
   "cell_type": "markdown",
   "metadata": {},
   "source": [
    "# 2908 번\n",
    "## 상수\n",
    "\n",
    "### 상수는 수를 다른 사람과 다르게 거꾸로 읽는다. 예를 들어, 734와 893을 칠판에 적었다면, 상수는 이 수를 437과 398로 읽는다. 따라서, 상수는 두 수중 큰 수인 437을 큰 수라고 말할 것이다. 두 수가 주어졌을 때, 상수의 대답을 출력하는 프로그램을 작성하시오."
   ]
  },
  {
   "cell_type": "code",
   "execution_count": 2,
   "metadata": {},
   "outputs": [
    {
     "name": "stdout",
     "output_type": "stream",
     "text": [
      "437\n"
     ]
    }
   ],
   "source": [
    "a,b = input().split()\n",
    "\n",
    "a = int(a[::-1]) # 역순\n",
    "b = int(b[::-1])\n",
    "\n",
    "if a > b :\n",
    "    print(a)\n",
    "else : \n",
    "    print(b)"
   ]
  },
  {
   "cell_type": "markdown",
   "metadata": {},
   "source": [
    "# 5622 번\n",
    "## 다이얼\n",
    "### 숫자 1을 걸려면 총 2초가 필요하다. 1보다 큰 수를 거는데 걸리는 시간은 이보다 더 걸리며, 한 칸 옆에 있는 숫자를 걸기 위해선 1초씩 더 걸린다.상근이의 할머니는 전화 번호를 각 숫자에 해당하는 문자로 외운다. 즉, 어떤 단어를 걸 때, 각 알파벳에 해당하는 숫자를 걸면 된다. 예를 들어, UNUCIC는 868242와 같다. 할머니가 외운 단어가 주어졌을 때, 이 전화를 걸기 위해서 필요한 최소 시간을 구하는 프로그램을 작성하시오."
   ]
  },
  {
   "cell_type": "code",
   "execution_count": 7,
   "metadata": {},
   "outputs": [
    {
     "name": "stdout",
     "output_type": "stream",
     "text": [
      "33\n"
     ]
    }
   ],
   "source": [
    "num = input().lower()\n",
    "dial = ['abc','def','ghi','jkl','mno','pqrs','tuv','wxyz']\n",
    "time = 0\n",
    "\n",
    "for i in range(len(num)):\n",
    "    # print(i)\n",
    "    for j in dial: # dial 리스트에서 각 요소를 꺼내서 한글자씩 분리\n",
    "        if num[i] in j:\n",
    "            # print(num[i])\n",
    "            time += dial.index(j) + 3\n",
    "print(time)"
   ]
  },
  {
   "cell_type": "code",
   "execution_count": null,
   "metadata": {},
   "outputs": [],
   "source": []
  }
 ],
 "metadata": {
  "interpreter": {
   "hash": "b3ba2566441a7c06988d0923437866b63cedc61552a5af99d1f4fb67d367b25f"
  },
  "kernelspec": {
   "display_name": "Python 3.8.8 64-bit ('base': conda)",
   "name": "python3"
  },
  "language_info": {
   "codemirror_mode": {
    "name": "ipython",
    "version": 3
   },
   "file_extension": ".py",
   "mimetype": "text/x-python",
   "name": "python",
   "nbconvert_exporter": "python",
   "pygments_lexer": "ipython3",
   "version": "3.8.8"
  },
  "orig_nbformat": 4
 },
 "nbformat": 4,
 "nbformat_minor": 2
}
