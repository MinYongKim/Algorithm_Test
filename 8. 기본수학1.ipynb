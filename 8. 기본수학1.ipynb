{
 "cells": [
  {
   "cell_type": "markdown",
   "metadata": {},
   "source": [
    "# 1712 번\n",
    "## 손익분기점\n",
    "### 반적으로 생산 대수를 늘려 가다 보면 어느 순간 총 수입(판매비용)이 총 비용(=고정비용+가변비용)보다 많아지게 된다. 최초로 총 수입이 총 비용보다 많아져 이익이 발생하는 지점을 손익분기점(BREAK-EVEN POINT)이라고 한다.\n",
    "#### 첫 번째 줄에 손익분기점 즉 최초로 이익이 발생하는 판매량을 출력한다. 손익분기점이 존재하지 않으면 -1을 출력한다.\n"
   ]
  },
  {
   "cell_type": "code",
   "execution_count": 3,
   "metadata": {},
   "outputs": [
    {
     "name": "stdout",
     "output_type": "stream",
     "text": [
      "-1\n"
     ]
    }
   ],
   "source": [
    "# a+b*x > c*x\n",
    "a,b,c = map(int, input().split())\n",
    "\n",
    "if b >= c: \n",
    "    print(-1)\n",
    "else:\n",
    "    print(a//(c-b)+1)"
   ]
  },
  {
   "cell_type": "markdown",
   "metadata": {},
   "source": [
    "# 2292 번\n",
    "## 벌집\n",
    "### 위의 그림과 같이 육각형으로 이루어진 벌집이 있다. 그림에서 보는 바와 같이 중앙의 방 1부터 시작해서 이웃하는 방에 돌아가면서 1씩 증가하는 번호를 주소로 매길 수 있다. 숫자 N이 주어졌을 때, 벌집의 중앙 1에서 N번 방까지 최소 개수의 방을 지나서 갈 때 몇 개의 방을 지나가는지(시작과 끝을 포함하여)를 계산하는 프로그램을 작성하시오"
   ]
  },
  {
   "cell_type": "code",
   "execution_count": 5,
   "metadata": {},
   "outputs": [
    {
     "name": "stdout",
     "output_type": "stream",
     "text": [
      "3\n"
     ]
    }
   ],
   "source": [
    "n = int(input())\n",
    "\n",
    "nums_count = 1 # 1부터시작\n",
    "cnt = 1\n",
    "while n > nums_count:\n",
    "    nums_count += 6*cnt\n",
    "    cnt += 1\n",
    "print(cnt)"
   ]
  },
  {
   "cell_type": "markdown",
   "metadata": {},
   "source": [
    "# 1193 번\n",
    "## 분수 찾기\n",
    "### 이와 같이 나열된 분수들을 1/1 → 1/2 → 2/1 → 3/1 → 2/2 → … 과 같은 지그재그 순서로 차례대로 1번, 2번, 3번, 4번, 5번, … 분수라고 하자. X가 주어졌을 때, X번째 분수를 구하는 프로그램을 작성하시오."
   ]
  },
  {
   "cell_type": "code",
   "execution_count": 3,
   "metadata": {},
   "outputs": [
    {
     "name": "stdout",
     "output_type": "stream",
     "text": [
      "2/1\n"
     ]
    }
   ],
   "source": [
    "num = int(input())\n",
    "\n",
    "line = 1\n",
    "\n",
    "while num > line:\n",
    "    num -= line # 입력 받은 수가 라인의 몇 번째 수\n",
    "    line += 1 # line은 입력받은 수가 있는 라인\n",
    "\n",
    "# 짝수\n",
    "if line % 2 == 0:\n",
    "    a = num # 분자\n",
    "    b = line - num + 1 # 분모\n",
    "else :\n",
    "    a = line - num + 1\n",
    "    b = num\n",
    "print(a,'/',b, sep='')\n"
   ]
  },
  {
   "cell_type": "markdown",
   "metadata": {},
   "source": [
    "# 2869 번\n",
    "## 달팽이는 올라가고 싶다\n",
    "### 높이 v, 낮 a , 밤 b\n",
    "#### 달팽이는 낮에 A미터 올라갈 수 있다. 하지만, 밤에 잠을 자는 동안 B미터 미끄러진다. 또, 정상에 올라간 후에는 미끄러지지 않는다."
   ]
  },
  {
   "cell_type": "code",
   "execution_count": 6,
   "metadata": {},
   "outputs": [
    {
     "name": "stdout",
     "output_type": "stream",
     "text": [
      "4\n"
     ]
    }
   ],
   "source": [
    "import math\n",
    "# ceil 소수를 올림하는 정수를 반환\n",
    "\n",
    "a,b,v = map(int,input().split())\n",
    "d = math.ceil((v-a)/(a-b))+1\n",
    "print(d)\n"
   ]
  },
  {
   "cell_type": "markdown",
   "metadata": {},
   "source": [
    "# 10250 번\n",
    "## ACM 호텔\n",
    "### 프로그램은 표준 입력에서 입력 데이터를 받는다. 프로그램의 입력은 T 개의 테스트 데이터로 이루어져 있는데 T 는 입력의 맨 첫 줄에 주어진다. 각 테스트 데이터는 한 행으로서 H, W, N, 세 정수를 포함하고 있으며 각각 호텔의 층 수, 각 층의 방 수, 몇 번째 손님인지를 나타낸다(1 ≤ H, W ≤ 99, 1 ≤ N ≤ H × W). "
   ]
  },
  {
   "cell_type": "code",
   "execution_count": 2,
   "metadata": {},
   "outputs": [
    {
     "name": "stdout",
     "output_type": "stream",
     "text": [
      "402\n",
      "1203\n"
     ]
    }
   ],
   "source": [
    "# H 층수  W 층당 방의수 N 몇 번째 손님\n",
    "\n",
    "n = int(input())\n",
    "\n",
    "for i in range(n):\n",
    "    h, w , n = map(int, input().split())\n",
    "    a = n % h # n%h 몇 번째 손님이 n을 높이로 나눈 나머지값\n",
    "    b = n//h + 1 # 해당 나눈 몫에 +1 몇호실\n",
    "    if n%h ==0: \n",
    "        a = h\n",
    "        b = n // h\n",
    "    print(f'{a*100+b}')"
   ]
  },
  {
   "cell_type": "markdown",
   "metadata": {},
   "source": [
    "# 2775 번\n",
    "## 부녀회장이 될테야\n",
    "### 첫 번째 줄에 Test case의 수 T가 주어진다. 그리고 각각의 케이스마다 입력으로 첫 번째 줄에 정수 k, 두 번째 줄에 정수 n이 주어진다"
   ]
  },
  {
   "cell_type": "code",
   "execution_count": 3,
   "metadata": {},
   "outputs": [
    {
     "name": "stdout",
     "output_type": "stream",
     "text": [
      "6\n",
      "10\n"
     ]
    }
   ],
   "source": [
    "t = int(input())\n",
    "\n",
    "for i in range(t):\n",
    "    k = int(input())\n",
    "    n = int(input())\n",
    "    people = [ i for i in range(1, n+1)]\n",
    "    \n",
    "    for x in range(k):\n",
    "        for y in range(1,n):\n",
    "            people[y] += people[y-1]\n",
    "    print(people[-1])\n"
   ]
  },
  {
   "cell_type": "markdown",
   "metadata": {},
   "source": [
    "# 2839번\n",
    "## 설탕배달\n",
    "### 상근이가 배달하는 봉지의 최소 개수를 출력한다. 만약, 정확하게 N킬로그램을 만들 수 없다면 -1을 출력한다."
   ]
  },
  {
   "cell_type": "code",
   "execution_count": 1,
   "metadata": {},
   "outputs": [
    {
     "name": "stdout",
     "output_type": "stream",
     "text": [
      "4\n"
     ]
    }
   ],
   "source": [
    "# 3kg, 5kg\n",
    "num = int(input())\n",
    "cnt = 0\n",
    "while num >= 0:\n",
    "    if num % 5 == 0: # 5의 배수\n",
    "        cnt += int(num//5) # 5로 나눈 몫을 구해야 정수\n",
    "        print(cnt)\n",
    "        break\n",
    "    num -= 3\n",
    "    cnt += 1 # 5의 배수가 될 때까지 설탕 -3 cnt+1\n",
    "else:\n",
    "    print(-1)\n"
   ]
  },
  {
   "cell_type": "markdown",
   "metadata": {},
   "source": [
    "# 10757번\n",
    "## 큰수 A+B\n",
    "### 첫째 줄에 A+B를 출력한다"
   ]
  },
  {
   "cell_type": "code",
   "execution_count": 3,
   "metadata": {},
   "outputs": [
    {
     "name": "stdout",
     "output_type": "stream",
     "text": [
      "18446744073709551615\n"
     ]
    }
   ],
   "source": [
    "a,b = map(int, input().split())\n",
    "\n",
    "print(a+b)"
   ]
  },
  {
   "cell_type": "markdown",
   "metadata": {},
   "source": [
    "# 1011번\n",
    "## Fly me to the Alpha Centauri\n",
    "### 각 테스트 케이스에 대해 x지점으로부터 y지점까지 정확히 도달하는데 필요한 최소한의 공간이동 장치 작동 횟수를 출력한다."
   ]
  },
  {
   "cell_type": "code",
   "execution_count": 4,
   "metadata": {},
   "outputs": [
    {
     "name": "stdout",
     "output_type": "stream",
     "text": [
      "3\n",
      "3\n",
      "4\n"
     ]
    }
   ],
   "source": [
    "# 풀이 및 해석 참조\n",
    "# https://eunhee-programming.tistory.com/99\n",
    "T = int(input())\n",
    "\n",
    "for i in range(T):\n",
    "    x,y = map(int,input().split()) # 출발 및 도착 지점\n",
    "\n",
    "    d = y-x # 거리\n",
    "    n = 0\n",
    "\n",
    "    while True:\n",
    "        if d <= n*(n+1):\n",
    "            break\n",
    "        n +=1\n",
    "    if d <= n**2:\n",
    "        print(n*2-1)\n",
    "    else:\n",
    "        print(n*2)"
   ]
  },
  {
   "cell_type": "code",
   "execution_count": null,
   "metadata": {},
   "outputs": [],
   "source": []
  }
 ],
 "metadata": {
  "interpreter": {
   "hash": "b3ba2566441a7c06988d0923437866b63cedc61552a5af99d1f4fb67d367b25f"
  },
  "kernelspec": {
   "display_name": "Python 3.8.8 64-bit ('base': conda)",
   "language": "python",
   "name": "python3"
  },
  "language_info": {
   "codemirror_mode": {
    "name": "ipython",
    "version": 3
   },
   "file_extension": ".py",
   "mimetype": "text/x-python",
   "name": "python",
   "nbconvert_exporter": "python",
   "pygments_lexer": "ipython3",
   "version": "3.8.8"
  },
  "orig_nbformat": 4
 },
 "nbformat": 4,
 "nbformat_minor": 2
}
