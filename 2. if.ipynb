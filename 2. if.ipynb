{
 "cells": [
  {
   "cell_type": "code",
   "execution_count": 2,
   "source": [
    "# 1. map 함수 중요성!!!\r\n",
    "a, b = map(int, input('').split())\r\n",
    "\r\n",
    "if a>b :\r\n",
    "    print(\">\")\r\n",
    "elif a<b :\r\n",
    "    print(\"<\")\r\n",
    "else:\r\n",
    "    print(\"==\")"
   ],
   "outputs": [
    {
     "output_type": "stream",
     "name": "stdout",
     "text": [
      "<\n"
     ]
    }
   ],
   "metadata": {}
  },
  {
   "cell_type": "code",
   "execution_count": 3,
   "source": [
    "# 2. 시험성적\r\n",
    "score = int(input(''))\r\n",
    "\r\n",
    "if 90<=score <=100 :\r\n",
    "    print(\"A\")\r\n",
    "elif 80<= score <=89 :\r\n",
    "    print(\"B\")\r\n",
    "elif 70<= score <=79 :\r\n",
    "    print(\"C\")\r\n",
    "elif 60<= score <=69 :\r\n",
    "    print(\"D\")\r\n",
    "else : \r\n",
    "    print(\"F\")"
   ],
   "outputs": [
    {
     "output_type": "stream",
     "name": "stdout",
     "text": [
      "A\n"
     ]
    }
   ],
   "metadata": {}
  },
  {
   "cell_type": "code",
   "execution_count": 4,
   "source": [
    "# 3. 윤년\r\n",
    "# year = int(input(''))\r\n",
    "# if (year%4 ==0) and (year%100 != 0) :\r\n",
    "#     print(\"1\")\r\n",
    "# elif (year%4 ==0) and(year %400 ==0):\r\n",
    "#     print(\"1\")\r\n",
    "# else :\r\n",
    "#     print(\"0\")\r\n",
    "year = int(input(''))\r\n",
    "if (year %4 ==0 and year%100 !=0) or year%400 ==0 :\r\n",
    "    print(\"1\")\r\n",
    "else:\r\n",
    "    print(\"0\")"
   ],
   "outputs": [
    {
     "output_type": "stream",
     "name": "stdout",
     "text": [
      "0\n"
     ]
    }
   ],
   "metadata": {}
  },
  {
   "cell_type": "code",
   "execution_count": 5,
   "source": [
    "# 4. 좌표\r\n",
    "x = int(input(\"\"))\r\n",
    "y = int(input(\"\"))\r\n",
    "if x >0 and y>0:\r\n",
    "    print(\"1\")\r\n",
    "elif x>0 and y<0:\r\n",
    "    print(\"4\")\r\n",
    "elif x<0 and y<0:\r\n",
    "    print(\"3\")\r\n",
    "else :\r\n",
    "    print(\"2\")"
   ],
   "outputs": [
    {
     "output_type": "stream",
     "name": "stdout",
     "text": [
      "1\n"
     ]
    }
   ],
   "metadata": {}
  },
  {
   "cell_type": "code",
   "execution_count": 6,
   "source": [
    "# 시계\r\n",
    "h,m = map(int, input(\"\").split())\r\n",
    "if m>44 :\r\n",
    "    print(h,m-45)\r\n",
    "elif m<45 and h>0 :\r\n",
    "    print(h-1,m+15)\r\n",
    "else :\r\n",
    "    print(23, m+15)"
   ],
   "outputs": [
    {
     "output_type": "stream",
     "name": "stdout",
     "text": [
      "4 35\n"
     ]
    }
   ],
   "metadata": {}
  },
  {
   "cell_type": "code",
   "execution_count": null,
   "source": [],
   "outputs": [],
   "metadata": {}
  }
 ],
 "metadata": {
  "kernelspec": {
   "name": "python3",
   "display_name": "Python 3.8.8 64-bit ('base': conda)"
  },
  "language_info": {
   "codemirror_mode": {
    "name": "ipython",
    "version": 3
   },
   "file_extension": ".py",
   "mimetype": "text/x-python",
   "name": "python",
   "nbconvert_exporter": "python",
   "pygments_lexer": "ipython3",
   "version": "3.8.8"
  },
  "interpreter": {
   "hash": "b3ba2566441a7c06988d0923437866b63cedc61552a5af99d1f4fb67d367b25f"
  }
 },
 "nbformat": 4,
 "nbformat_minor": 5
}