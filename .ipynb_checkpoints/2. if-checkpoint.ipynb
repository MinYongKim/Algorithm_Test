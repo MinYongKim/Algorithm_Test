{
 "cells": [
  {
   "cell_type": "code",
   "execution_count": 14,
   "id": "cd11b566",
   "metadata": {},
   "outputs": [
    {
     "name": "stdout",
     "output_type": "stream",
     "text": [
      "1 2\n",
      "<\n"
     ]
    }
   ],
   "source": [
    "# 1. map 함수 중요성!!!\n",
    "a, b = map(int, input('').split())\n",
    "\n",
    "if a>b :\n",
    "    print(\">\")\n",
    "elif a<b :\n",
    "    print(\"<\")\n",
    "else:\n",
    "    print(\"==\")"
   ]
  },
  {
   "cell_type": "code",
   "execution_count": 19,
   "id": "8ed3e0ca",
   "metadata": {},
   "outputs": [
    {
     "name": "stdout",
     "output_type": "stream",
     "text": [
      "1111\n",
      "F\n"
     ]
    }
   ],
   "source": [
    "# 2. 시험성적\n",
    "score = int(input(''))\n",
    "\n",
    "if 90<=score <=100 :\n",
    "    print(\"A\")\n",
    "elif 80<= score <=89 :\n",
    "    print(\"B\")\n",
    "elif 70<= score <=79 :\n",
    "    print(\"C\")\n",
    "elif 60<= score <=69 :\n",
    "    print(\"D\")\n",
    "else : \n",
    "    print(\"F\")"
   ]
  },
  {
   "cell_type": "code",
   "execution_count": 61,
   "id": "cf59d411",
   "metadata": {},
   "outputs": [
    {
     "name": "stdout",
     "output_type": "stream",
     "text": [
      "2000\n",
      "1\n"
     ]
    }
   ],
   "source": [
    "# 3. 윤년\n",
    "# year = int(input(''))\n",
    "# if (year%4 ==0) and (year%100 != 0) :\n",
    "#     print(\"1\")\n",
    "# elif (year%4 ==0) and(year %400 ==0):\n",
    "#     print(\"1\")\n",
    "# else :\n",
    "#     print(\"0\")\n",
    "year = int(input(''))\n",
    "if (year %4 ==0 and year%100 !=0) or year%400 ==0 :\n",
    "    print(\"1\")\n",
    "else:\n",
    "    print(\"0\")"
   ]
  },
  {
   "cell_type": "code",
   "execution_count": 4,
   "id": "f66e489f",
   "metadata": {},
   "outputs": [
    {
     "name": "stdout",
     "output_type": "stream",
     "text": [
      "-12\n",
      "5\n",
      "3\n"
     ]
    }
   ],
   "source": [
    "# 4. 좌표\n",
    "x = int(input(\"\"))\n",
    "y = int(input(\"\"))\n",
    "if x >0 and y>0:\n",
    "    print(\"1\")\n",
    "elif x>0 and y<0:\n",
    "    print(\"4\")\n",
    "elif x<0 and y<0:\n",
    "    print(\"3\")\n",
    "else :\n",
    "    print(\"2\")"
   ]
  },
  {
   "cell_type": "code",
   "execution_count": 28,
   "id": "ba1d5051",
   "metadata": {},
   "outputs": [
    {
     "name": "stdout",
     "output_type": "stream",
     "text": [
      "23 40\n",
      "22 55\n"
     ]
    }
   ],
   "source": [
    "# 시계\n",
    "h,m = map(int, input(\"\").split())\n",
    "if m>44 :\n",
    "    print(h,m-45)\n",
    "elif m<45 and h>0 :\n",
    "    print(h-1,m+15)\n",
    "else :\n",
    "    print(23, m+15)"
   ]
  },
  {
   "cell_type": "code",
   "execution_count": null,
   "id": "a1c43d92",
   "metadata": {},
   "outputs": [],
   "source": []
  }
 ],
 "metadata": {
  "kernelspec": {
   "display_name": "Python 3",
   "language": "python",
   "name": "python3"
  },
  "language_info": {
   "codemirror_mode": {
    "name": "ipython",
    "version": 3
   },
   "file_extension": ".py",
   "mimetype": "text/x-python",
   "name": "python",
   "nbconvert_exporter": "python",
   "pygments_lexer": "ipython3",
   "version": "3.8.8"
  }
 },
 "nbformat": 4,
 "nbformat_minor": 5
}
