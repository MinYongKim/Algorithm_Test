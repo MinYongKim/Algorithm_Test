{
 "cells": [
  {
   "cell_type": "code",
   "execution_count": 3,
   "source": [
    "# 10952\r\n",
    "# 두 정수 A와 B를 입력받은 다음, A+B를 출력하는 프로그램을 작성하시오.\r\n",
    "# 입력의 마지막에는 0 두 개가 들어온다\r\n",
    "while True :\r\n",
    "    a,b = map(int, input().split())\r\n",
    "    if a>0 and b>0:\r\n",
    "        print(a+b)\r\n",
    "    elif a == 0 and b == 0:\r\n",
    "        break"
   ],
   "outputs": [
    {
     "output_type": "stream",
     "name": "stdout",
     "text": [
      "2\n",
      "5\n",
      "7\n",
      "17\n",
      "7\n"
     ]
    }
   ],
   "metadata": {}
  },
  {
   "cell_type": "code",
   "execution_count": 2,
   "source": [
    "# 10951\r\n",
    "# 예외처리를 사용해서 while 문 빠져 나오기\r\n",
    "while True :\r\n",
    "    try :\r\n",
    "        a,b = map(int, input().split())\r\n",
    "    except:\r\n",
    "        break\r\n",
    "    print(a+b)"
   ],
   "outputs": [
    {
     "output_type": "stream",
     "name": "stdout",
     "text": [
      "2\n",
      "2\n",
      "5\n",
      "5\n",
      "11\n",
      "11\n",
      "15\n",
      "15\n"
     ]
    }
   ],
   "metadata": {}
  },
  {
   "cell_type": "markdown",
   "source": [
    "# 1110번\r\n",
    "### 보다 크거나 같고, 99보다 작거나 같은 정수가 주어질 때 다음과 같은 연산을 할 수 있다. 먼저 주어진 수가 10보다 작다면 앞에 0을 붙여 두 자리 수로 만들고, 각 자리의 숫자를 더한다. 그 다음, 주어진 수의 가장 오른쪽 자리 수와 앞에서 구한 합의 가장 오른쪽 자리 수를 이어 붙이면 새로운 수를 만들 수 있다. 다음 예를 보자.\r\n",
    "### 26부터 시작한다. 2+6 = 8이다. 새로운 수는 68이다. 6+8 = 14이다. 새로운 수는 84이다. 8+4 = 12이다. 새로운 수는 42이다. 4+2 = 6이다. 새로운 수는 26이다.\r\n",
    "### 위의 예는 4번만에 원래 수로 돌아올 수 있다. 따라서 26의 사이클의 길이는 4이다.\r\n",
    "### N이 주어졌을 때, N의 사이클의 길이를 구하는 프로그램을 작성하시오."
   ],
   "metadata": {}
  },
  {
   "cell_type": "code",
   "execution_count": 3,
   "source": [
    "n = int(input())\r\n",
    "num = n\r\n",
    "count = 0\r\n",
    "\r\n",
    "while True:\r\n",
    "    a = num // 10 # 몫\r\n",
    "    b = num % 10 # 나머지\r\n",
    "    c = (a + b) % 10\r\n",
    "    num = (b * 10) + c\r\n",
    "\r\n",
    "    count += 1\r\n",
    "    if (num == n):\r\n",
    "        break\r\n",
    "print(count)"
   ],
   "outputs": [
    {
     "output_type": "stream",
     "name": "stdout",
     "text": [
      "3\n"
     ]
    }
   ],
   "metadata": {}
  },
  {
   "cell_type": "code",
   "execution_count": null,
   "source": [],
   "outputs": [],
   "metadata": {}
  }
 ],
 "metadata": {
  "orig_nbformat": 4,
  "language_info": {
   "name": "python",
   "version": "3.8.8",
   "mimetype": "text/x-python",
   "codemirror_mode": {
    "name": "ipython",
    "version": 3
   },
   "pygments_lexer": "ipython3",
   "nbconvert_exporter": "python",
   "file_extension": ".py"
  },
  "kernelspec": {
   "name": "python3",
   "display_name": "Python 3.8.8 64-bit ('base': conda)"
  },
  "interpreter": {
   "hash": "b3ba2566441a7c06988d0923437866b63cedc61552a5af99d1f4fb67d367b25f"
  }
 },
 "nbformat": 4,
 "nbformat_minor": 2
}