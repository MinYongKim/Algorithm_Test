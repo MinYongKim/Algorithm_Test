{
 "cells": [
  {
   "cell_type": "markdown",
   "source": [
    "# 10818번\r\n",
    "## 최소, 최대\r\n",
    "### N개의 정수가 주어진다. 이때, 최솟값과 최댓값을 구하는 프로그램을 작성하시오."
   ],
   "metadata": {}
  },
  {
   "cell_type": "code",
   "execution_count": 12,
   "source": [
    "N=input()\r\n",
    "n = list(map(int, input().split()))\r\n",
    "\r\n",
    "print(\"{} {}\".format(min(n),max(n)))"
   ],
   "outputs": [
    {
     "output_type": "stream",
     "name": "stdout",
     "text": [
      "5 35\n"
     ]
    }
   ],
   "metadata": {}
  },
  {
   "cell_type": "markdown",
   "source": [
    "# 2562번\r\n",
    "## 최댓값\r\n",
    "### 9개의 서로 다른 자연수가 주어질 때, 이들 중 최댓값을 찾고 그 최댓값이 몇 번째 수인지를 구하는 프로그램을 작성하시오. \r\n",
    "### 예를 들어, 서로 다른 9개의 자연수\r\n",
    "### 3, 29, 38, 12, 57, 74, 40, 85, 61\r\n",
    "### 이 주어지면, 이들 중 최댓값은 85이고, 이 값은 8번째 수이다"
   ],
   "metadata": {}
  },
  {
   "cell_type": "code",
   "execution_count": 41,
   "source": [
    "a = []\r\n",
    "for i in range(1,10) :\r\n",
    "    i = int(input())\r\n",
    "    a.append(i)\r\n",
    "print(max(a))\r\n",
    "print(a.index(max(a))+1)"
   ],
   "outputs": [
    {
     "output_type": "stream",
     "name": "stdout",
     "text": [
      "85\n",
      "8\n"
     ]
    }
   ],
   "metadata": {}
  },
  {
   "cell_type": "markdown",
   "source": [
    "# 2557번\r\n",
    "## 숫자의 개수\r\n",
    "### 세 개의 자연수 A, B, C가 주어질 때 A × B × C를 계산한 결과에 0부터 9까지 각각의 숫자가 몇 번씩 쓰였는지를 구하는 프로그램을 작성하시오.\r\n",
    "### 예를 들어 A = 150, B = 266, C = 427 이라면 A × B × C = 150 × 266 × 427 = 17037300 이 되고, 계산한 결과 17037300 에는 0이 3번, 1이 1번, 3이 2번, 7이 2번 쓰였다."
   ],
   "metadata": {}
  },
  {
   "cell_type": "code",
   "execution_count": 85,
   "source": [
    "# int -> str -> list 형으로 변환\r\n",
    "# count 함수를 사용하기위해 int -> str 출력\r\n",
    "a = int(input())\r\n",
    "b = int(input())\r\n",
    "c = int(input())\r\n",
    "\r\n",
    "k = list(str(a * b * c))\r\n",
    "for i in range(10):\r\n",
    "    k1 = k.count(str(i))\r\n",
    "    print(k1)"
   ],
   "outputs": [
    {
     "output_type": "stream",
     "name": "stdout",
     "text": [
      "3\n",
      "1\n",
      "0\n",
      "2\n",
      "0\n",
      "0\n",
      "0\n",
      "2\n",
      "0\n",
      "0\n"
     ]
    }
   ],
   "metadata": {}
  },
  {
   "cell_type": "markdown",
   "source": [
    "# 3052번\r\n",
    "## 나머지\r\n",
    "### 두 자연수 A와 B가 있을 때, A%B는 A를 B로 나눈 나머지 이다. 예를 들어, 7, 14, 27, 38을 3으로 나눈 나머지는 1, 2, 0, 2이다. \r\n",
    "### 수 10개를 입력받은 뒤, 이를 42로 나눈 나머지를 구한다. 그 다음 서로 다른 값이 몇 개 있는지 출력하는 프로그램을 작성하시오."
   ],
   "metadata": {}
  },
  {
   "cell_type": "code",
   "execution_count": 135,
   "source": [
    "# set 집합 함수는 중복을 허용하지 않는다\r\n",
    "num = []\r\n",
    "for i in range(10):\r\n",
    "    a = int(input())\r\n",
    "    if  a%42 != 0 :\r\n",
    "        b = str(a%42)\r\n",
    "        num.append(b)\r\n",
    "    elif a%42 == 0 :\r\n",
    "        b = str(a%42)\r\n",
    "        num.append(b)\r\n",
    "print(len(set(num)))\r\n",
    "\r\n",
    "# 코드 리뷰!!! \r\n",
    "n = []\r\n",
    "for i in range(10):\r\n",
    "    a = int(input())\r\n",
    "    b = a%42\r\n",
    "    n.append(b)\r\n",
    "print(len(set(n)))"
   ],
   "outputs": [
    {
     "output_type": "stream",
     "name": "stdout",
     "text": [
      "10\n"
     ]
    }
   ],
   "metadata": {}
  },
  {
   "cell_type": "markdown",
   "source": [
    "# 1546번\r\n",
    "## 평균\r\n",
    "### 세준이는 기말고사를 망쳤다. 세준이는 점수를 조작해서 집에 가져가기로 했다. 일단 세준이는 자기 점수 중에 최댓값을 골랐다. 이 값을 M이라고 한다. 그리고 나서 모든 점수를 점수/M*100으로 고쳤다.\r\n",
    "### 예를 들어, 세준이의 최고점이 70이고, 수학점수가 50이었으면 수학점수는 50/70*100이 되어 71.43점이 된다.\r\n",
    "### 세준이의 성적을 위의 방법대로 새로 계산했을 때, 새로운 평균을 구하는 프로그램을 작성하시오."
   ],
   "metadata": {}
  },
  {
   "cell_type": "code",
   "execution_count": 19,
   "source": [
    "N = input()\r\n",
    "n = list(map(int, input().split()))\r\n",
    "n1 = (sum(n)/max(n)*100)\r\n",
    "print(n1/float(N))\r\n",
    "\r\n"
   ],
   "outputs": [
    {
     "output_type": "stream",
     "name": "stdout",
     "text": [
      "65.0\n"
     ]
    }
   ],
   "metadata": {}
  },
  {
   "cell_type": "markdown",
   "source": [
    "# 8958번\r\n",
    "## OX퀴즈\r\n",
    "### \"OOXXOXXOOO\"와 같은 OX퀴즈의 결과가 있다. O는 문제를 맞은 것이고, X는 문제를 틀린 것이다. 문제를 맞은 경우 그 문제의 점수는 그 문제까지 연속된 O의 개수가 된다. 예를 들어, 10번 문제의 점수는 3이 된다.\r\n",
    "### \"OOXXOXXOOO\"의 점수는 1+2+0+0+1+0+0+1+2+3 = 10점이다."
   ],
   "metadata": {}
  },
  {
   "cell_type": "code",
   "execution_count": 6,
   "source": [
    "# 하나씩 비교해서 O 나오면 점수가 올라가고 X가 나올시 초기화\r\n",
    "# 이중 FOR문 이용 \r\n",
    "N = int(input())\r\n",
    "for i in range(N):\r\n",
    "    a = input()\r\n",
    "    score = 0\r\n",
    "    sum = 0\r\n",
    "    for ox in a:\r\n",
    "        if ox == 'O':\r\n",
    "            score += 1\r\n",
    "            sum += score\r\n",
    "        else:\r\n",
    "            score = 0\r\n",
    "    print(sum)"
   ],
   "outputs": [
    {
     "output_type": "stream",
     "name": "stdout",
     "text": [
      "1\n",
      "2\n",
      "1\n",
      "2\n",
      "1\n",
      "2\n",
      "3\n",
      "12\n"
     ]
    }
   ],
   "metadata": {}
  },
  {
   "cell_type": "markdown",
   "source": [
    "# 4344번\r\n",
    "## 평균\r\n",
    "### 대학생 새내기들의 90%는 자신이 반에서 평균은 넘는다고 생각한다. 당신은 그들에게 슬픈 진실을 알려줘야 한다."
   ],
   "metadata": {}
  },
  {
   "cell_type": "code",
   "execution_count": 16,
   "source": [
    "N = int(input())\r\n",
    "for i in range(N):\r\n",
    "    score = list(map(int, input().split()))\r\n",
    "    mean = sum(score[1:])/ score[0]\r\n",
    "    cnt = 0\r\n",
    "    for j in score[1:]:\r\n",
    "        if j>mean:\r\n",
    "            cnt +=1\r\n",
    "    mean_per = cnt/score[0] *100\r\n",
    "    print(f'{mean_per:.3f}%')\r\n"
   ],
   "outputs": [
    {
     "output_type": "stream",
     "name": "stdout",
     "text": [
      "55.556%\n"
     ]
    }
   ],
   "metadata": {}
  },
  {
   "cell_type": "code",
   "execution_count": 12,
   "source": [],
   "outputs": [
    {
     "output_type": "execute_result",
     "data": {
      "text/plain": [
       "[5, 50, 70, 80, 90, 100]"
      ]
     },
     "metadata": {},
     "execution_count": 12
    }
   ],
   "metadata": {}
  }
 ],
 "metadata": {
  "orig_nbformat": 4,
  "language_info": {
   "name": "python",
   "version": "3.8.8",
   "mimetype": "text/x-python",
   "codemirror_mode": {
    "name": "ipython",
    "version": 3
   },
   "pygments_lexer": "ipython3",
   "nbconvert_exporter": "python",
   "file_extension": ".py"
  },
  "kernelspec": {
   "name": "python3",
   "display_name": "Python 3.8.8 64-bit ('base': conda)"
  },
  "interpreter": {
   "hash": "b3ba2566441a7c06988d0923437866b63cedc61552a5af99d1f4fb67d367b25f"
  }
 },
 "nbformat": 4,
 "nbformat_minor": 2
}